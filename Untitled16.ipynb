{
 "cells": [
  {
   "cell_type": "code",
   "execution_count": null,
   "id": "9e188605",
   "metadata": {},
   "outputs": [],
   "source": [
    "import tensorflow as tf"
   ]
  }
 ],
 "metadata": {
  "kernelspec": {
   "display_name": "jupy",
   "language": "python",
   "name": "jupy"
  }
 },
 "nbformat": 4,
 "nbformat_minor": 5
}
