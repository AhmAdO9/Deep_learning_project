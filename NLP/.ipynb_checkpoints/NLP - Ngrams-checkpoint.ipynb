{
 "cells": [
  {
   "cell_type": "code",
   "execution_count": 1,
   "id": "0467c292",
   "metadata": {},
   "outputs": [],
   "source": [
    "import nltk\n",
    "from nltk.stem import PorterStemmer\n",
    "from nltk.corpus import stopwords\n",
    "import pandas as pd\n",
    "import numpy as np\n",
    "import matplotlib.pyplot as plt\n",
    "%matplotlib inline \n",
    "from nltk.stem import WordNetLemmatizer\n",
    "from nltk.corpus import stopwords"
   ]
  },
  {
   "cell_type": "code",
   "execution_count": 2,
   "id": "d195eb56",
   "metadata": {},
   "outputs": [],
   "source": [
    "paragraph = '''JAIPUR: Heavy \"police\" arrangements were made across the city to catch revellers indulging in hullabaloo or breaching peace on the New Year eve on Tuesday. The police in the past two days arrested over 600 drunken drivers. Even as commissioner of police Bhupendra Dak inspected the city areas along with DCPs, official said that special focus was given to put a check on drunk driving. Policemen equipped with breathalyzers and interceptors were ready to catch hold of people driving in inebriated condition while passing through various areas in the city. \"We are checking people, mostly youngsters for driving under the influence of alcohol on New Year Eve. All of them are being booked under Section 185 of the Motor Vehicles Act. Their vehicles were seized and they are now to appear in courts concerned,\" said a senior police officer. Police added that these defaulters will either have to pay a fine or get at least three years of imprisonment. \"Altogether 500 people driving vehicles including cars and bikes were caught at different places and their vehicles were seized on Monday night alone. Several others were penalized for high speed and for driving without helmets,\" the officer said. However, rowdies took the arrangements for granted and smashed the windows of a car parked near Gaurav Tower, Malviya Nagar area on Monday night.'''"
   ]
  },
  {
   "cell_type": "code",
   "execution_count": 3,
   "id": "a4df893a",
   "metadata": {},
   "outputs": [
    {
     "data": {
      "text/plain": [
       "'JAIPUR: Heavy \"police\" arrangements were made across the city to catch revellers indulging in hullabaloo or breaching peace on the New Year eve on Tuesday. The police in the past two days arrested over 600 drunken drivers. Even as commissioner of police Bhupendra Dak inspected the city areas along with DCPs, official said that special focus was given to put a check on drunk driving. Policemen equipped with breathalyzers and interceptors were ready to catch hold of people driving in inebriated condition while passing through various areas in the city. \"We are checking people, mostly youngsters for driving under the influence of alcohol on New Year Eve. All of them are being booked under Section 185 of the Motor Vehicles Act. Their vehicles were seized and they are now to appear in courts concerned,\" said a senior police officer. Police added that these defaulters will either have to pay a fine or get at least three years of imprisonment. \"Altogether 500 people driving vehicles including cars and bikes were caught at different places and their vehicles were seized on Monday night alone. Several others were penalized for high speed and for driving without helmets,\" the officer said. However, rowdies took the arrangements for granted and smashed the windows of a car parked near Gaurav Tower, Malviya Nagar area on Monday night.'"
      ]
     },
     "execution_count": 3,
     "metadata": {},
     "output_type": "execute_result"
    }
   ],
   "source": [
    "paragraph"
   ]
  },
  {
   "cell_type": "markdown",
   "id": "a1493529",
   "metadata": {},
   "source": [
    "## Tokenization: Conversion of a paragraph into words"
   ]
  },
  {
   "cell_type": "code",
   "execution_count": 4,
   "id": "88c9c91d",
   "metadata": {},
   "outputs": [],
   "source": [
    "\n",
    "sentences = nltk.sent_tokenize(paragraph)"
   ]
  },
  {
   "cell_type": "code",
   "execution_count": 5,
   "id": "37eaad03",
   "metadata": {},
   "outputs": [
    {
     "data": {
      "text/plain": [
       "['JAIPUR: Heavy \"police\" arrangements were made across the city to catch revellers indulging in hullabaloo or breaching peace on the New Year eve on Tuesday.',\n",
       " 'The police in the past two days arrested over 600 drunken drivers.',\n",
       " 'Even as commissioner of police Bhupendra Dak inspected the city areas along with DCPs, official said that special focus was given to put a check on drunk driving.',\n",
       " 'Policemen equipped with breathalyzers and interceptors were ready to catch hold of people driving in inebriated condition while passing through various areas in the city.',\n",
       " '\"We are checking people, mostly youngsters for driving under the influence of alcohol on New Year Eve.',\n",
       " 'All of them are being booked under Section 185 of the Motor Vehicles Act.',\n",
       " 'Their vehicles were seized and they are now to appear in courts concerned,\" said a senior police officer.',\n",
       " 'Police added that these defaulters will either have to pay a fine or get at least three years of imprisonment.',\n",
       " '\"Altogether 500 people driving vehicles including cars and bikes were caught at different places and their vehicles were seized on Monday night alone.',\n",
       " 'Several others were penalized for high speed and for driving without helmets,\" the officer said.',\n",
       " 'However, rowdies took the arrangements for granted and smashed the windows of a car parked near Gaurav Tower, Malviya Nagar area on Monday night.']"
      ]
     },
     "execution_count": 5,
     "metadata": {},
     "output_type": "execute_result"
    }
   ],
   "source": [
    "sentences"
   ]
  },
  {
   "cell_type": "code",
   "execution_count": 6,
   "id": "6cf0c536",
   "metadata": {},
   "outputs": [],
   "source": [
    "stemmer = PorterStemmer()"
   ]
  },
  {
   "cell_type": "code",
   "execution_count": 7,
   "id": "409b2911",
   "metadata": {},
   "outputs": [
    {
     "data": {
      "text/plain": [
       "'goe'"
      ]
     },
     "execution_count": 7,
     "metadata": {},
     "output_type": "execute_result"
    }
   ],
   "source": [
    "stemmer.stem('goes')"
   ]
  },
  {
   "cell_type": "code",
   "execution_count": 8,
   "id": "45765f2f",
   "metadata": {},
   "outputs": [],
   "source": [
    "lemmatizer = WordNetLemmatizer()\n"
   ]
  },
  {
   "cell_type": "code",
   "execution_count": 9,
   "id": "d0ea3d21",
   "metadata": {},
   "outputs": [
    {
     "data": {
      "text/plain": [
       "'go'"
      ]
     },
     "execution_count": 9,
     "metadata": {},
     "output_type": "execute_result"
    }
   ],
   "source": [
    "lemmatizer.lemmatize('goes')"
   ]
  },
  {
   "cell_type": "code",
   "execution_count": 10,
   "id": "8c11b766",
   "metadata": {},
   "outputs": [],
   "source": [
    "import re"
   ]
  },
  {
   "cell_type": "code",
   "execution_count": 11,
   "id": "cd8404ec",
   "metadata": {},
   "outputs": [],
   "source": [
    "corpus = []\n",
    "for i in range(len(sentences)):\n",
    "        review = re.sub(\"[^a-zA-Z]\",\" \", sentences[i])\n",
    "        review = review.lower()\n",
    "        corpus.append(review)"
   ]
  },
  {
   "cell_type": "code",
   "execution_count": 12,
   "id": "bb1b49b1",
   "metadata": {},
   "outputs": [
    {
     "data": {
      "text/plain": [
       "['jaipur  heavy  police  arrangements were made across the city to catch revellers indulging in hullabaloo or breaching peace on the new year eve on tuesday ',\n",
       " 'the police in the past two days arrested over     drunken drivers ',\n",
       " 'even as commissioner of police bhupendra dak inspected the city areas along with dcps  official said that special focus was given to put a check on drunk driving ',\n",
       " 'policemen equipped with breathalyzers and interceptors were ready to catch hold of people driving in inebriated condition while passing through various areas in the city ',\n",
       " ' we are checking people  mostly youngsters for driving under the influence of alcohol on new year eve ',\n",
       " 'all of them are being booked under section     of the motor vehicles act ',\n",
       " 'their vehicles were seized and they are now to appear in courts concerned   said a senior police officer ',\n",
       " 'police added that these defaulters will either have to pay a fine or get at least three years of imprisonment ',\n",
       " ' altogether     people driving vehicles including cars and bikes were caught at different places and their vehicles were seized on monday night alone ',\n",
       " 'several others were penalized for high speed and for driving without helmets   the officer said ',\n",
       " 'however  rowdies took the arrangements for granted and smashed the windows of a car parked near gaurav tower  malviya nagar area on monday night ']"
      ]
     },
     "execution_count": 12,
     "metadata": {},
     "output_type": "execute_result"
    }
   ],
   "source": [
    "corpus"
   ]
  },
  {
   "cell_type": "markdown",
   "id": "b7911366",
   "metadata": {},
   "source": [
    "## stemming"
   ]
  },
  {
   "cell_type": "code",
   "execution_count": 16,
   "id": "c5c466e2",
   "metadata": {},
   "outputs": [
    {
     "name": "stdout",
     "output_type": "stream",
     "text": [
      "jaipur\n",
      "heavy\n",
      "police\n",
      "arrangement\n",
      "made\n",
      "across\n",
      "city\n",
      "catch\n",
      "reveller\n",
      "indulging\n",
      "hullabaloo\n",
      "breaching\n",
      "peace\n",
      "new\n",
      "year\n",
      "eve\n",
      "tuesday\n",
      "police\n",
      "past\n",
      "two\n",
      "day\n",
      "arrested\n",
      "drunken\n",
      "driver\n",
      "even\n",
      "commissioner\n",
      "police\n",
      "bhupendra\n",
      "dak\n",
      "inspected\n",
      "city\n",
      "area\n",
      "along\n",
      "dcps\n",
      "official\n",
      "said\n",
      "special\n",
      "focus\n",
      "given\n",
      "put\n",
      "check\n",
      "drunk\n",
      "driving\n",
      "policeman\n",
      "equipped\n",
      "breathalyzer\n",
      "interceptor\n",
      "ready\n",
      "catch\n",
      "hold\n",
      "people\n",
      "driving\n",
      "inebriated\n",
      "condition\n",
      "passing\n",
      "various\n",
      "area\n",
      "city\n",
      "checking\n",
      "people\n",
      "mostly\n",
      "youngster\n",
      "driving\n",
      "influence\n",
      "alcohol\n",
      "new\n",
      "year\n",
      "eve\n",
      "booked\n",
      "section\n",
      "motor\n",
      "vehicle\n",
      "act\n",
      "vehicle\n",
      "seized\n",
      "appear\n",
      "court\n",
      "concerned\n",
      "said\n",
      "senior\n",
      "police\n",
      "officer\n",
      "police\n",
      "added\n",
      "defaulter\n",
      "either\n",
      "pay\n",
      "fine\n",
      "get\n",
      "least\n",
      "three\n",
      "year\n",
      "imprisonment\n",
      "altogether\n",
      "people\n",
      "driving\n",
      "vehicle\n",
      "including\n",
      "car\n",
      "bike\n",
      "caught\n",
      "different\n",
      "place\n",
      "vehicle\n",
      "seized\n",
      "monday\n",
      "night\n",
      "alone\n",
      "several\n",
      "others\n",
      "penalized\n",
      "high\n",
      "speed\n",
      "driving\n",
      "without\n",
      "helmet\n",
      "officer\n",
      "said\n",
      "however\n",
      "rowdy\n",
      "took\n",
      "arrangement\n",
      "granted\n",
      "smashed\n",
      "window\n",
      "car\n",
      "parked\n",
      "near\n",
      "gaurav\n",
      "tower\n",
      "malviya\n",
      "nagar\n",
      "area\n",
      "monday\n",
      "night\n"
     ]
    }
   ],
   "source": [
    "for i in corpus:\n",
    "        word = nltk.word_tokenize(i)\n",
    "        for j in word:\n",
    "            if j not in set(stopwords.words('english')):\n",
    "                print(lemmatizer.lemmatize(j))"
   ]
  },
  {
   "cell_type": "code",
   "execution_count": 17,
   "id": "c04effa3",
   "metadata": {},
   "outputs": [
    {
     "data": {
      "text/plain": [
       "['i',\n",
       " 'me',\n",
       " 'my',\n",
       " 'myself',\n",
       " 'we',\n",
       " 'our',\n",
       " 'ours',\n",
       " 'ourselves',\n",
       " 'you',\n",
       " \"you're\",\n",
       " \"you've\",\n",
       " \"you'll\",\n",
       " \"you'd\",\n",
       " 'your',\n",
       " 'yours',\n",
       " 'yourself',\n",
       " 'yourselves',\n",
       " 'he',\n",
       " 'him',\n",
       " 'his',\n",
       " 'himself',\n",
       " 'she',\n",
       " \"she's\",\n",
       " 'her',\n",
       " 'hers',\n",
       " 'herself',\n",
       " 'it',\n",
       " \"it's\",\n",
       " 'its',\n",
       " 'itself',\n",
       " 'they',\n",
       " 'them',\n",
       " 'their',\n",
       " 'theirs',\n",
       " 'themselves',\n",
       " 'what',\n",
       " 'which',\n",
       " 'who',\n",
       " 'whom',\n",
       " 'this',\n",
       " 'that',\n",
       " \"that'll\",\n",
       " 'these',\n",
       " 'those',\n",
       " 'am',\n",
       " 'is',\n",
       " 'are',\n",
       " 'was',\n",
       " 'were',\n",
       " 'be',\n",
       " 'been',\n",
       " 'being',\n",
       " 'have',\n",
       " 'has',\n",
       " 'had',\n",
       " 'having',\n",
       " 'do',\n",
       " 'does',\n",
       " 'did',\n",
       " 'doing',\n",
       " 'a',\n",
       " 'an',\n",
       " 'the',\n",
       " 'and',\n",
       " 'but',\n",
       " 'if',\n",
       " 'or',\n",
       " 'because',\n",
       " 'as',\n",
       " 'until',\n",
       " 'while',\n",
       " 'of',\n",
       " 'at',\n",
       " 'by',\n",
       " 'for',\n",
       " 'with',\n",
       " 'about',\n",
       " 'against',\n",
       " 'between',\n",
       " 'into',\n",
       " 'through',\n",
       " 'during',\n",
       " 'before',\n",
       " 'after',\n",
       " 'above',\n",
       " 'below',\n",
       " 'to',\n",
       " 'from',\n",
       " 'up',\n",
       " 'down',\n",
       " 'in',\n",
       " 'out',\n",
       " 'on',\n",
       " 'off',\n",
       " 'over',\n",
       " 'under',\n",
       " 'again',\n",
       " 'further',\n",
       " 'then',\n",
       " 'once',\n",
       " 'here',\n",
       " 'there',\n",
       " 'when',\n",
       " 'where',\n",
       " 'why',\n",
       " 'how',\n",
       " 'all',\n",
       " 'any',\n",
       " 'both',\n",
       " 'each',\n",
       " 'few',\n",
       " 'more',\n",
       " 'most',\n",
       " 'other',\n",
       " 'some',\n",
       " 'such',\n",
       " 'no',\n",
       " 'nor',\n",
       " 'not',\n",
       " 'only',\n",
       " 'own',\n",
       " 'same',\n",
       " 'so',\n",
       " 'than',\n",
       " 'too',\n",
       " 'very',\n",
       " 's',\n",
       " 't',\n",
       " 'can',\n",
       " 'will',\n",
       " 'just',\n",
       " 'don',\n",
       " \"don't\",\n",
       " 'should',\n",
       " \"should've\",\n",
       " 'now',\n",
       " 'd',\n",
       " 'll',\n",
       " 'm',\n",
       " 'o',\n",
       " 're',\n",
       " 've',\n",
       " 'y',\n",
       " 'ain',\n",
       " 'aren',\n",
       " \"aren't\",\n",
       " 'couldn',\n",
       " \"couldn't\",\n",
       " 'didn',\n",
       " \"didn't\",\n",
       " 'doesn',\n",
       " \"doesn't\",\n",
       " 'hadn',\n",
       " \"hadn't\",\n",
       " 'hasn',\n",
       " \"hasn't\",\n",
       " 'haven',\n",
       " \"haven't\",\n",
       " 'isn',\n",
       " \"isn't\",\n",
       " 'ma',\n",
       " 'mightn',\n",
       " \"mightn't\",\n",
       " 'mustn',\n",
       " \"mustn't\",\n",
       " 'needn',\n",
       " \"needn't\",\n",
       " 'shan',\n",
       " \"shan't\",\n",
       " 'shouldn',\n",
       " \"shouldn't\",\n",
       " 'wasn',\n",
       " \"wasn't\",\n",
       " 'weren',\n",
       " \"weren't\",\n",
       " 'won',\n",
       " \"won't\",\n",
       " 'wouldn',\n",
       " \"wouldn't\"]"
      ]
     },
     "execution_count": 17,
     "metadata": {},
     "output_type": "execute_result"
    }
   ],
   "source": [
    "stopwords.words('english')"
   ]
  },
  {
   "cell_type": "code",
   "execution_count": null,
   "id": "eae9914d",
   "metadata": {},
   "outputs": [],
   "source": [
    "from sklearn.feature_extractiont.text import "
   ]
  }
 ],
 "metadata": {
  "kernelspec": {
   "display_name": "jupy",
   "language": "python",
   "name": "jupy"
  },
  "language_info": {
   "codemirror_mode": {
    "name": "ipython",
    "version": 3
   },
   "file_extension": ".py",
   "mimetype": "text/x-python",
   "name": "python",
   "nbconvert_exporter": "python",
   "pygments_lexer": "ipython3",
   "version": "3.7.16"
  }
 },
 "nbformat": 4,
 "nbformat_minor": 5
}
