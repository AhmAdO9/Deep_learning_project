{
 "cells": [
  {
   "cell_type": "code",
   "execution_count": 44,
   "id": "3de32683",
   "metadata": {},
   "outputs": [],
   "source": [
    "from tensorflow.keras.preprocessing.text import one_hot"
   ]
  },
  {
   "cell_type": "code",
   "execution_count": 45,
   "id": "06d66d37",
   "metadata": {},
   "outputs": [],
   "source": [
    "sent=['the glass of milk',\n",
    "     'the glass of juice',\n",
    "     'the cup of tea',\n",
    "    'I am a good boy',\n",
    "     'I am a good developer',\n",
    "     'understand the meaning of words',\n",
    "     'your videos are good']"
   ]
  },
  {
   "cell_type": "code",
   "execution_count": 46,
   "id": "0d0975ff",
   "metadata": {},
   "outputs": [],
   "source": [
    "import tensorflow as tf"
   ]
  },
  {
   "cell_type": "code",
   "execution_count": 47,
   "id": "793e01ac",
   "metadata": {},
   "outputs": [],
   "source": [
    "import pandas as pd"
   ]
  },
  {
   "cell_type": "code",
   "execution_count": 94,
   "id": "2ba56007",
   "metadata": {},
   "outputs": [],
   "source": [
    "voc_size=500"
   ]
  },
  {
   "cell_type": "code",
   "execution_count": 95,
   "id": "3da6ef7c",
   "metadata": {},
   "outputs": [],
   "source": [
    "#One Hot Representation "
   ]
  },
  {
   "cell_type": "code",
   "execution_count": 96,
   "id": "5f6290cc",
   "metadata": {},
   "outputs": [],
   "source": [
    "onehot_repr=[one_hot(words,voc_size) for words in sent]"
   ]
  },
  {
   "cell_type": "code",
   "execution_count": 97,
   "id": "767b1ed0",
   "metadata": {},
   "outputs": [
    {
     "name": "stdout",
     "output_type": "stream",
     "text": [
      "[[168, 120, 306, 164], [168, 120, 306, 432], [168, 67, 306, 365], [499, 336, 261, 58, 188], [499, 336, 261, 58, 244], [91, 168, 146, 306, 349], [70, 16, 217, 58]]\n"
     ]
    }
   ],
   "source": [
    "print(onehot_repr)"
   ]
  },
  {
   "cell_type": "code",
   "execution_count": 98,
   "id": "6841a6cb",
   "metadata": {},
   "outputs": [],
   "source": [
    "from tensorflow.keras.layers import Embedding\n",
    "from tensorflow.keras.activations import tanh\n",
    "from tensorflow.keras.activations import sigmoid\n",
    "from tensorflow.keras.preprocessing.sequence import pad_sequences\n",
    "from tensorflow.keras.models import Sequential\n",
    "import numpy as np\n",
    "import matplotlib.pyplot as plt\n",
    "%matplotlib inline"
   ]
  },
  {
   "cell_type": "code",
   "execution_count": 99,
   "id": "7838a7de",
   "metadata": {},
   "outputs": [],
   "source": [
    "sent_length=8\n",
    "Embedding_docs=pad_sequences(onehot_repr, padding='pre', maxlen=sent_length)"
   ]
  },
  {
   "cell_type": "code",
   "execution_count": 100,
   "id": "682a02b7",
   "metadata": {},
   "outputs": [
    {
     "data": {
      "text/plain": [
       "array([[  0,   0,   0,   0, 168, 120, 306, 164],\n",
       "       [  0,   0,   0,   0, 168, 120, 306, 432],\n",
       "       [  0,   0,   0,   0, 168,  67, 306, 365],\n",
       "       [  0,   0,   0, 499, 336, 261,  58, 188],\n",
       "       [  0,   0,   0, 499, 336, 261,  58, 244],\n",
       "       [  0,   0,   0,  91, 168, 146, 306, 349],\n",
       "       [  0,   0,   0,   0,  70,  16, 217,  58]])"
      ]
     },
     "execution_count": 100,
     "metadata": {},
     "output_type": "execute_result"
    }
   ],
   "source": [
    "Embedding_docs"
   ]
  },
  {
   "cell_type": "code",
   "execution_count": 101,
   "id": "b657cc74",
   "metadata": {},
   "outputs": [],
   "source": [
    "dim=10"
   ]
  },
  {
   "cell_type": "code",
   "execution_count": 144,
   "id": "23f0bcfa",
   "metadata": {},
   "outputs": [],
   "source": [
    "model=Sequential()\n",
    "model.add(Embedding(voc_size,10,input_length=sent_length))\n",
    "model.compile('adam',loss='binary_crossentropy')"
   ]
  },
  {
   "cell_type": "code",
   "execution_count": 145,
   "id": "71eed40d",
   "metadata": {},
   "outputs": [
    {
     "name": "stdout",
     "output_type": "stream",
     "text": [
      "Model: \"sequential_14\"\n",
      "_________________________________________________________________\n",
      "Layer (type)                 Output Shape              Param #   \n",
      "=================================================================\n",
      "embedding_14 (Embedding)     (None, 8, 10)             5000      \n",
      "=================================================================\n",
      "Total params: 5,000\n",
      "Trainable params: 5,000\n",
      "Non-trainable params: 0\n",
      "_________________________________________________________________\n"
     ]
    }
   ],
   "source": [
    "model.summary()"
   ]
  },
  {
   "cell_type": "code",
   "execution_count": 146,
   "id": "bcd707d6",
   "metadata": {},
   "outputs": [
    {
     "data": {
      "text/plain": [
       "array([ 0.01998449, -0.01393891, -0.00631555, -0.04797901, -0.04678018,\n",
       "        0.02268124, -0.02726817, -0.03464618, -0.03877058,  0.0493675 ],\n",
       "      dtype=float32)"
      ]
     },
     "execution_count": 146,
     "metadata": {},
     "output_type": "execute_result"
    }
   ],
   "source": [
    "model.predict(Embedding_docs)[0][0]"
   ]
  },
  {
   "cell_type": "code",
   "execution_count": null,
   "id": "6551a613",
   "metadata": {},
   "outputs": [],
   "source": []
  }
 ],
 "metadata": {
  "kernelspec": {
   "display_name": "jupy",
   "language": "python",
   "name": "jupy"
  },
  "language_info": {
   "codemirror_mode": {
    "name": "ipython",
    "version": 3
   },
   "file_extension": ".py",
   "mimetype": "text/x-python",
   "name": "python",
   "nbconvert_exporter": "python",
   "pygments_lexer": "ipython3",
   "version": "3.7.16"
  }
 },
 "nbformat": 4,
 "nbformat_minor": 5
}
